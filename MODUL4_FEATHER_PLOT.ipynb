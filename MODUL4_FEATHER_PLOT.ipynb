{
 "cells": [
  {
   "cell_type": "markdown",
   "metadata": {},
   "source": [
    "#  CURRENT FEATHER PLOT"
   ]
  },
  {
   "cell_type": "code",
   "execution_count": 3,
   "metadata": {},
   "outputs": [],
   "source": [
    "#masukin library dulu \n",
    "import netCDF4 as nc\n",
    "import numpy as np\n",
    "import pandas as pd\n",
    "import math"
   ]
  },
  {
   "cell_type": "markdown",
   "metadata": {},
   "source": [
    "## Input Data Arus"
   ]
  },
  {
   "cell_type": "code",
   "execution_count": 2,
   "metadata": {},
   "outputs": [
    {
     "data": {
      "text/plain": [
       "<class 'netCDF4._netCDF4.Dataset'>\n",
       "root group (NETCDF4 data model, file format HDF5):\n",
       "    classification_level: UNCLASSIFIED\n",
       "    distribution_statement: Approved for public release. Distribution unlimited.\n",
       "    downgrade_date: not applicable\n",
       "    classification_authority: not applicable\n",
       "    institution: Naval Oceanographic Office\n",
       "    source: HYCOM archive file\n",
       "    history: archv2ncdf3z\n",
       "    field_type: instantaneous\n",
       "    Conventions: CF-1.0 NAVO_netcdf_v1.0\n",
       "    History: Translated to CF-1.0 Conventions by Netcdf-Java CDM (CFGridWriter2)\n",
       "Original Dataset = GLBu0.08/expt_19.1/2000/3hrly; Translation Date = 2020-09-22T03:29:47.900Z\n",
       "    geospatial_lat_min: -7.28000020980835\n",
       "    geospatial_lat_max: -2.319999933242798\n",
       "    geospatial_lon_min: 94.9599609375\n",
       "    geospatial_lon_max: 102.0\n",
       "    dimensions(sizes): time(248), depth(1), lat(63), lon(89)\n",
       "    variables(dimensions): int16 water_u(time,depth,lat,lon), float64 time(time), float64 depth(depth), float64 lat(lat), float64 lon(lon), int16 water_v(time,depth,lat,lon)\n",
       "    groups: "
      ]
     },
     "execution_count": 2,
     "metadata": {},
     "output_type": "execute_result"
    }
   ],
   "source": [
    "#masukin lokasi .nc nya dimana\n",
    "fn='D:/smt7/asisten andat/3hrly.nc4'\n",
    "#buka file nc nya dan liat isinya ada apa aja (variabel dan dimensi)\n",
    "ds=nc.Dataset(fn)\n",
    "ds"
   ]
  },
  {
   "cell_type": "code",
   "execution_count": null,
   "metadata": {},
   "outputs": [],
   "source": [
    "#data=pd.read_excel(r'D:/smt5/andat/praktikum/modul4 andat/Modul4.xlsx', sheet_name='HsFeather')\n",
    "#data_gel=pd.DataFrame(data, columns=['Hx','Hy','time'])\n",
    "#display(data_gel)\n",
    "#u=data_gel['Hx']\n",
    "#v=data_gel['Hy']"
   ]
  },
  {
   "cell_type": "markdown",
   "metadata": {},
   "source": [
    "## Deklarasi Variabel Arus\n",
    "masukin variabel dalam nc ke variabel buatan kita sendiri\n",
    "\n",
    "feather plot inputnya komponen u, v, dan waktu sebagai sumbu x\n",
    "\n",
    "rose diagram itu, inputnya harus time series sedangkan pada input data kita tau kalo data yg di download merupakan data spasial makanya diambil deh satu kolom latitude dan longitudenya itu maksudnya ngambil 1 grid.\n",
    "\n",
    "setiap orang dalam setiap kelompok diusahakan mengambil dari grid yang berbeda supaya dapat dilihat ketersesuaian data dalam satu daerah tersebut\n",
    "\n",
    "grid yg diambil samain aja sama grid windrose dan current rose"
   ]
  },
  {
   "cell_type": "code",
   "execution_count": 15,
   "metadata": {},
   "outputs": [
    {
     "name": "stdout",
     "output_type": "stream",
     "text": [
      "dimensi u (248, 1)\n",
      "dimensi v (248, 1)\n",
      "dimensi lon (89,)\n",
      "dimensi lat (63,)\n",
      "dimensi time (248,)\n"
     ]
    }
   ],
   "source": [
    "u=ds.variables['water_u'][:,:,1,1]\n",
    "v=ds.variables['water_v'][:,:,1,1]\n",
    "lon=ds.variables['lon'][:]\n",
    "lat=ds.variables['lat'][:]\n",
    "time=ds.variables['time'][:]\n",
    "\n",
    "#melihat dimensi masing2 variabel\n",
    "print('dimensi u',np.shape(u))\n",
    "print('dimensi v',np.shape(v))\n",
    "print('dimensi lon',np.shape(lon))\n",
    "print('dimensi lat',np.shape(lat))\n",
    "print('dimensi time',np.shape(time))"
   ]
  },
  {
   "cell_type": "code",
   "execution_count": 16,
   "metadata": {},
   "outputs": [
    {
     "data": {
      "text/html": [
       "<div>\n",
       "<style scoped>\n",
       "    .dataframe tbody tr th:only-of-type {\n",
       "        vertical-align: middle;\n",
       "    }\n",
       "\n",
       "    .dataframe tbody tr th {\n",
       "        vertical-align: top;\n",
       "    }\n",
       "\n",
       "    .dataframe thead th {\n",
       "        text-align: right;\n",
       "    }\n",
       "</style>\n",
       "<table border=\"1\" class=\"dataframe\">\n",
       "  <thead>\n",
       "    <tr style=\"text-align: right;\">\n",
       "      <th></th>\n",
       "      <th>u</th>\n",
       "      <th>v</th>\n",
       "      <th>time</th>\n",
       "    </tr>\n",
       "  </thead>\n",
       "  <tbody>\n",
       "    <tr>\n",
       "      <th>count</th>\n",
       "      <td>248.000000</td>\n",
       "      <td>248.000000</td>\n",
       "      <td>248.000000</td>\n",
       "    </tr>\n",
       "    <tr>\n",
       "      <th>mean</th>\n",
       "      <td>0.283439</td>\n",
       "      <td>-0.156060</td>\n",
       "      <td>370.500000</td>\n",
       "    </tr>\n",
       "    <tr>\n",
       "      <th>std</th>\n",
       "      <td>0.256342</td>\n",
       "      <td>0.161762</td>\n",
       "      <td>215.206877</td>\n",
       "    </tr>\n",
       "    <tr>\n",
       "      <th>min</th>\n",
       "      <td>-0.225000</td>\n",
       "      <td>-0.523000</td>\n",
       "      <td>0.000000</td>\n",
       "    </tr>\n",
       "    <tr>\n",
       "      <th>25%</th>\n",
       "      <td>0.094750</td>\n",
       "      <td>-0.261250</td>\n",
       "      <td>185.250000</td>\n",
       "    </tr>\n",
       "    <tr>\n",
       "      <th>50%</th>\n",
       "      <td>0.298000</td>\n",
       "      <td>-0.165500</td>\n",
       "      <td>370.500000</td>\n",
       "    </tr>\n",
       "    <tr>\n",
       "      <th>75%</th>\n",
       "      <td>0.482500</td>\n",
       "      <td>-0.040750</td>\n",
       "      <td>555.750000</td>\n",
       "    </tr>\n",
       "    <tr>\n",
       "      <th>max</th>\n",
       "      <td>0.842000</td>\n",
       "      <td>0.219000</td>\n",
       "      <td>741.000000</td>\n",
       "    </tr>\n",
       "  </tbody>\n",
       "</table>\n",
       "</div>"
      ],
      "text/plain": [
       "                u           v        time\n",
       "count  248.000000  248.000000  248.000000\n",
       "mean     0.283439   -0.156060  370.500000\n",
       "std      0.256342    0.161762  215.206877\n",
       "min     -0.225000   -0.523000    0.000000\n",
       "25%      0.094750   -0.261250  185.250000\n",
       "50%      0.298000   -0.165500  370.500000\n",
       "75%      0.482500   -0.040750  555.750000\n",
       "max      0.842000    0.219000  741.000000"
      ]
     },
     "execution_count": 16,
     "metadata": {},
     "output_type": "execute_result"
    }
   ],
   "source": [
    "#untuk melihat data\n",
    "data_arus=pd.DataFrame(u,columns=['u'])\n",
    "data_arus['v']=v\n",
    "data_arus['time']=time\n",
    "data_arus.describe()\n",
    "#display(data_arus)"
   ]
  },
  {
   "cell_type": "markdown",
   "metadata": {},
   "source": [
    "## Membuat Current Feather Plot"
   ]
  },
  {
   "cell_type": "code",
   "execution_count": 17,
   "metadata": {},
   "outputs": [],
   "source": [
    "import numpy as np\n",
    "import matplotlib.pyplot as plt\n",
    "from matplotlib.dates import date2num\n",
    "\n",
    "\n",
    "def stick_plot(time, u, v, **kw):\n",
    "    width = kw.pop('width', 0.002)\n",
    "    headwidth = kw.pop('headwidth', 0)\n",
    "    headlength = kw.pop('headlength', 0)\n",
    "    headaxislength = kw.pop('headaxislength', 0)\n",
    "    angles = kw.pop('angles', 'uv')\n",
    "    ax = kw.pop('ax', None)\n",
    "    \n",
    "    if angles != 'uv':\n",
    "        raise AssertionError(\"Stickplot angles must be 'uv' so that\"\n",
    "                             \"if *U*==*V* the angle of the arrow on\"\n",
    "                             \"the plot is 45 degrees CCW from the *x*-axis.\")\n",
    "\n",
    "    time, u, v = map(np.asanyarray, (time, u, v))\n",
    "    if not ax:\n",
    "        fig, ax = plt.subplots()\n",
    "    \n",
    "    q = ax.quiver(date2num(time), [[0]*len(time)], u, v,\n",
    "                  angles='uv', width=width, headwidth=headwidth,\n",
    "                  headlength=headlength, headaxislength=headaxislength,\n",
    "                  **kw)\n",
    "\n",
    "    ax.axes.get_yaxis().set_visible(False)\n",
    "    ax.xaxis_date()\n",
    "    return q"
   ]
  },
  {
   "cell_type": "code",
   "execution_count": 18,
   "metadata": {},
   "outputs": [],
   "source": [
    "from datetime import datetime, timedelta, date\n",
    "x = data_arus\n",
    "start = datetime(2000, 1, 1, 0, 0) #tahun,bulan,hari\n",
    "t = [start + timedelta(hours=3*n) for n in range(len(x))] #karena data diambil setiap 3 jam\n"
   ]
  },
  {
   "cell_type": "code",
   "execution_count": 19,
   "metadata": {},
   "outputs": [
    {
     "data": {
      "image/png": "[encoded data removed]",
      "text/plain": [
       "<Figure size 792x360 with 1 Axes>"
      ]
     },
     "metadata": {
      "needs_background": "light"
     },
     "output_type": "display_data"
    }
   ],
   "source": [
    "fig, ax = plt.subplots(figsize=(11, 5))\n",
    "\n",
    "q = stick_plot(t, u, v, ax=ax, width=0.002, color='coral')\n",
    "ax.set_title('CURRENT FEATHER PLOT')\n",
    "ref = 1\n",
    "qk = plt.quiverkey(q, 0.1, 0.85, ref,\n",
    "                  \"%s m/s \" % ref,\n",
    "                  labelpos='N', coordinates='axes')\n",
    "\n",
    "_ = plt.xticks(rotation=70)"
   ]
  },
  {
   "cell_type": "markdown",
   "metadata": {},
   "source": [
    "# WAVE FEATHER PLOT\n",
    "## Input Variabel Gelombang"
   ]
  },
  {
   "cell_type": "code",
   "execution_count": 3,
   "metadata": {},
   "outputs": [
    {
     "data": {
      "text/plain": [
       "<class 'netCDF4._netCDF4.Dataset'>\n",
       "root group (NETCDF3_64BIT_OFFSET data model, file format NETCDF3):\n",
       "    Conventions: CF-1.6\n",
       "    history: 2020-09-29 09:34:41 GMT by grib_to_netcdf-2.18.0: grib_to_netcdf /data/scratch/20200929-0930/e8/_mars-webmars-public-svc-blue-004-6fe5cac1a363ec1525f54343b6cc9fd8-f3B6Ik.grib -o /data/scratch/20200929-0930/b3/_grib2netcdf-webmars-public-svc-blue-000-6fe5cac1a363ec1525f54343b6cc9fd8-SZthSl.nc -utime\n",
       "    dimensions(sizes): longitude(57), latitude(41), time(124)\n",
       "    variables(dimensions): float32 longitude(longitude), float32 latitude(latitude), int32 time(time), int16 swh(time,latitude,longitude), int16 mwd(time,latitude,longitude)\n",
       "    groups: "
      ]
     },
     "execution_count": 3,
     "metadata": {},
     "output_type": "execute_result"
    }
   ],
   "source": [
    "#masukin lokasi .nc nya dimana\n",
    "fn2='D:/smt7/asisten andat/gelombang1.nc'\n",
    "#buka file nc nya dan liat isinya ada apa aja (variabel dan dimensi)\n",
    "ds2=nc.Dataset(fn2)\n",
    "ds2\n"
   ]
  },
  {
   "cell_type": "markdown",
   "metadata": {},
   "source": [
    "## Deklarasi Variabel Gelombang"
   ]
  },
  {
   "cell_type": "code",
   "execution_count": 4,
   "metadata": {},
   "outputs": [
    {
     "name": "stdout",
     "output_type": "stream",
     "text": [
      "dimensi swh (124,)\n",
      "dimensi mwd (124,)\n",
      "dimensi lon (57,)\n",
      "dimensi lat (41,)\n",
      "dimensi time (124,)\n"
     ]
    }
   ],
   "source": [
    "swh=ds2.variables['swh'][:,1,1]\n",
    "mwd=ds2.variables['mwd'][:,1,1]\n",
    "lon2=ds2.variables['longitude'][:]\n",
    "lat2=ds2.variables['latitude'][:]\n",
    "time2=ds2.variables['time'][:]\n",
    "\n",
    "#melihat dimensi masing2 variabel\n",
    "print('dimensi swh',np.shape(swh))\n",
    "print('dimensi mwd',np.shape(mwd))\n",
    "print('dimensi lon',np.shape(lon2))\n",
    "print('dimensi lat',np.shape(lat2))\n",
    "print('dimensi time',np.shape(time2))"
   ]
  },
  {
   "cell_type": "code",
   "execution_count": 6,
   "metadata": {},
   "outputs": [
    {
     "data": {
      "text/html": [
       "<div>\n",
       "<style scoped>\n",
       "    .dataframe tbody tr th:only-of-type {\n",
       "        vertical-align: middle;\n",
       "    }\n",
       "\n",
       "    .dataframe tbody tr th {\n",
       "        vertical-align: top;\n",
       "    }\n",
       "\n",
       "    .dataframe thead th {\n",
       "        text-align: right;\n",
       "    }\n",
       "</style>\n",
       "<table border=\"1\" class=\"dataframe\">\n",
       "  <thead>\n",
       "    <tr style=\"text-align: right;\">\n",
       "      <th></th>\n",
       "      <th>Hs</th>\n",
       "      <th>Direction</th>\n",
       "      <th>time</th>\n",
       "    </tr>\n",
       "  </thead>\n",
       "  <tbody>\n",
       "    <tr>\n",
       "      <th>0</th>\n",
       "      <td>1.275460</td>\n",
       "      <td>210.270366</td>\n",
       "      <td>876576</td>\n",
       "    </tr>\n",
       "    <tr>\n",
       "      <th>1</th>\n",
       "      <td>1.250678</td>\n",
       "      <td>209.929484</td>\n",
       "      <td>876582</td>\n",
       "    </tr>\n",
       "    <tr>\n",
       "      <th>2</th>\n",
       "      <td>1.240360</td>\n",
       "      <td>209.949536</td>\n",
       "      <td>876588</td>\n",
       "    </tr>\n",
       "    <tr>\n",
       "      <th>3</th>\n",
       "      <td>1.240101</td>\n",
       "      <td>209.963859</td>\n",
       "      <td>876594</td>\n",
       "    </tr>\n",
       "    <tr>\n",
       "      <th>4</th>\n",
       "      <td>1.247052</td>\n",
       "      <td>210.005395</td>\n",
       "      <td>876600</td>\n",
       "    </tr>\n",
       "    <tr>\n",
       "      <th>...</th>\n",
       "      <td>...</td>\n",
       "      <td>...</td>\n",
       "      <td>...</td>\n",
       "    </tr>\n",
       "    <tr>\n",
       "      <th>119</th>\n",
       "      <td>1.192955</td>\n",
       "      <td>199.839085</td>\n",
       "      <td>877290</td>\n",
       "    </tr>\n",
       "    <tr>\n",
       "      <th>120</th>\n",
       "      <td>1.167093</td>\n",
       "      <td>200.096895</td>\n",
       "      <td>877296</td>\n",
       "    </tr>\n",
       "    <tr>\n",
       "      <th>121</th>\n",
       "      <td>1.145506</td>\n",
       "      <td>200.719936</td>\n",
       "      <td>877302</td>\n",
       "    </tr>\n",
       "    <tr>\n",
       "      <th>122</th>\n",
       "      <td>1.126942</td>\n",
       "      <td>202.020444</td>\n",
       "      <td>877308</td>\n",
       "    </tr>\n",
       "    <tr>\n",
       "      <th>123</th>\n",
       "      <td>1.119386</td>\n",
       "      <td>203.754933</td>\n",
       "      <td>877314</td>\n",
       "    </tr>\n",
       "  </tbody>\n",
       "</table>\n",
       "<p>124 rows × 3 columns</p>\n",
       "</div>"
      ],
      "text/plain": [
       "           Hs   Direction    time\n",
       "0    1.275460  210.270366  876576\n",
       "1    1.250678  209.929484  876582\n",
       "2    1.240360  209.949536  876588\n",
       "3    1.240101  209.963859  876594\n",
       "4    1.247052  210.005395  876600\n",
       "..        ...         ...     ...\n",
       "119  1.192955  199.839085  877290\n",
       "120  1.167093  200.096895  877296\n",
       "121  1.145506  200.719936  877302\n",
       "122  1.126942  202.020444  877308\n",
       "123  1.119386  203.754933  877314\n",
       "\n",
       "[124 rows x 3 columns]"
      ]
     },
     "metadata": {},
     "output_type": "display_data"
    }
   ],
   "source": [
    "#untuk melihat data\n",
    "data_gel=pd.DataFrame(swh,columns=['Hs'])\n",
    "data_gel['Direction']=mwd\n",
    "data_gel['time']=time2\n",
    "#data_gel.describe()\n",
    "display(data_gel)"
   ]
  },
  {
   "cell_type": "markdown",
   "metadata": {},
   "source": [
    "## Menghitung Hy dan Hx\n",
    "karena data yang ada adalah Hs dan Arahnya, maka Hy dan Hx digitung terlebih dahulu"
   ]
  },
  {
   "cell_type": "code",
   "execution_count": 10,
   "metadata": {},
   "outputs": [
    {
     "data": {
      "text/html": [
       "<div>\n",
       "<style scoped>\n",
       "    .dataframe tbody tr th:only-of-type {\n",
       "        vertical-align: middle;\n",
       "    }\n",
       "\n",
       "    .dataframe tbody tr th {\n",
       "        vertical-align: top;\n",
       "    }\n",
       "\n",
       "    .dataframe thead th {\n",
       "        text-align: right;\n",
       "    }\n",
       "</style>\n",
       "<table border=\"1\" class=\"dataframe\">\n",
       "  <thead>\n",
       "    <tr style=\"text-align: right;\">\n",
       "      <th></th>\n",
       "      <th>Hs</th>\n",
       "      <th>Direction</th>\n",
       "      <th>time</th>\n",
       "      <th>Hx</th>\n",
       "      <th>Hy</th>\n",
       "    </tr>\n",
       "  </thead>\n",
       "  <tbody>\n",
       "    <tr>\n",
       "      <th>0</th>\n",
       "      <td>1.275460</td>\n",
       "      <td>210.270366</td>\n",
       "      <td>876576</td>\n",
       "      <td>-1.101560</td>\n",
       "      <td>-0.642935</td>\n",
       "    </tr>\n",
       "    <tr>\n",
       "      <th>1</th>\n",
       "      <td>1.250678</td>\n",
       "      <td>209.929484</td>\n",
       "      <td>876582</td>\n",
       "      <td>-1.083888</td>\n",
       "      <td>-0.624006</td>\n",
       "    </tr>\n",
       "    <tr>\n",
       "      <th>2</th>\n",
       "      <td>1.240360</td>\n",
       "      <td>209.949536</td>\n",
       "      <td>876588</td>\n",
       "      <td>-1.074729</td>\n",
       "      <td>-0.619234</td>\n",
       "    </tr>\n",
       "    <tr>\n",
       "      <th>3</th>\n",
       "      <td>1.240101</td>\n",
       "      <td>209.963859</td>\n",
       "      <td>876594</td>\n",
       "      <td>-1.074350</td>\n",
       "      <td>-0.619373</td>\n",
       "    </tr>\n",
       "    <tr>\n",
       "      <th>4</th>\n",
       "      <td>1.247052</td>\n",
       "      <td>210.005395</td>\n",
       "      <td>876600</td>\n",
       "      <td>-1.079920</td>\n",
       "      <td>-0.623628</td>\n",
       "    </tr>\n",
       "    <tr>\n",
       "      <th>...</th>\n",
       "      <td>...</td>\n",
       "      <td>...</td>\n",
       "      <td>...</td>\n",
       "      <td>...</td>\n",
       "      <td>...</td>\n",
       "    </tr>\n",
       "    <tr>\n",
       "      <th>119</th>\n",
       "      <td>1.192955</td>\n",
       "      <td>199.839085</td>\n",
       "      <td>877290</td>\n",
       "      <td>-1.122152</td>\n",
       "      <td>-0.404865</td>\n",
       "    </tr>\n",
       "    <tr>\n",
       "      <th>120</th>\n",
       "      <td>1.167093</td>\n",
       "      <td>200.096895</td>\n",
       "      <td>877296</td>\n",
       "      <td>-1.096032</td>\n",
       "      <td>-0.401024</td>\n",
       "    </tr>\n",
       "    <tr>\n",
       "      <th>121</th>\n",
       "      <td>1.145506</td>\n",
       "      <td>200.719936</td>\n",
       "      <td>877302</td>\n",
       "      <td>-1.071416</td>\n",
       "      <td>-0.405281</td>\n",
       "    </tr>\n",
       "    <tr>\n",
       "      <th>122</th>\n",
       "      <td>1.126942</td>\n",
       "      <td>202.020444</td>\n",
       "      <td>877308</td>\n",
       "      <td>-1.044731</td>\n",
       "      <td>-0.422533</td>\n",
       "    </tr>\n",
       "    <tr>\n",
       "      <th>123</th>\n",
       "      <td>1.119386</td>\n",
       "      <td>203.754933</td>\n",
       "      <td>877314</td>\n",
       "      <td>-1.024548</td>\n",
       "      <td>-0.450917</td>\n",
       "    </tr>\n",
       "  </tbody>\n",
       "</table>\n",
       "<p>124 rows × 5 columns</p>\n",
       "</div>"
      ],
      "text/plain": [
       "           Hs   Direction    time        Hx        Hy\n",
       "0    1.275460  210.270366  876576 -1.101560 -0.642935\n",
       "1    1.250678  209.929484  876582 -1.083888 -0.624006\n",
       "2    1.240360  209.949536  876588 -1.074729 -0.619234\n",
       "3    1.240101  209.963859  876594 -1.074350 -0.619373\n",
       "4    1.247052  210.005395  876600 -1.079920 -0.623628\n",
       "..        ...         ...     ...       ...       ...\n",
       "119  1.192955  199.839085  877290 -1.122152 -0.404865\n",
       "120  1.167093  200.096895  877296 -1.096032 -0.401024\n",
       "121  1.145506  200.719936  877302 -1.071416 -0.405281\n",
       "122  1.126942  202.020444  877308 -1.044731 -0.422533\n",
       "123  1.119386  203.754933  877314 -1.024548 -0.450917\n",
       "\n",
       "[124 rows x 5 columns]"
      ]
     },
     "metadata": {},
     "output_type": "display_data"
    }
   ],
   "source": [
    "Hx=[]\n",
    "for i in range(len(data_gel)):\n",
    "    hx=data_gel['Hs'].iloc[i]*math.cos(math.radians(data_gel['Direction'].iloc[i]))\n",
    "    Hx.append(hx)\n",
    "data_gel['Hx']=Hx[:]\n",
    "\n",
    "Hy=[]\n",
    "for i in range(len(data_gel)):\n",
    "    hy=data_gel['Hs'].iloc[i]*math.sin(math.radians(data_gel['Direction'].iloc[i]))\n",
    "    Hy.append(hy)\n",
    "data_gel['Hy']=Hy[:]\n",
    "\n",
    "display(data_gel)"
   ]
  },
  {
   "cell_type": "code",
   "execution_count": 11,
   "metadata": {},
   "outputs": [],
   "source": [
    "import numpy as np\n",
    "import matplotlib.pyplot as plt\n",
    "from matplotlib.dates import date2num\n",
    "\n",
    "\n",
    "def stick_plot(time, u, v, **kw):\n",
    "    width = kw.pop('width', 0.002)\n",
    "    headwidth = kw.pop('headwidth', 0)\n",
    "    headlength = kw.pop('headlength', 0)\n",
    "    headaxislength = kw.pop('headaxislength', 0)\n",
    "    angles = kw.pop('angles', 'uv')\n",
    "    ax = kw.pop('ax', None)\n",
    "    \n",
    "    if angles != 'uv':\n",
    "        raise AssertionError(\"Stickplot angles must be 'uv' so that\"\n",
    "                             \"if *U*==*V* the angle of the arrow on\"\n",
    "                             \"the plot is 45 degrees CCW from the *x*-axis.\")\n",
    "\n",
    "    time, u, v = map(np.asanyarray, (time, u, v))\n",
    "    if not ax:\n",
    "        fig, ax = plt.subplots()\n",
    "    \n",
    "    q = ax.quiver(date2num(time), [[0]*len(time)], u, v,\n",
    "                  angles='uv', width=width, headwidth=headwidth,\n",
    "                  headlength=headlength, headaxislength=headaxislength,\n",
    "                  **kw)\n",
    "\n",
    "    ax.axes.get_yaxis().set_visible(False)\n",
    "    ax.xaxis_date()\n",
    "    return q"
   ]
  },
  {
   "cell_type": "code",
   "execution_count": 12,
   "metadata": {},
   "outputs": [],
   "source": [
    "from datetime import datetime, timedelta, date\n",
    "x = data_gel\n",
    "start = datetime(2000, 1, 1, 0, 0) #tahun,bulan,hari\n",
    "t = [start + timedelta(hours=n) for n in range(len(x))] #karena data diambil setiap 3 jam\n"
   ]
  },
  {
   "cell_type": "code",
   "execution_count": 13,
   "metadata": {},
   "outputs": [
    {
     "data": {
      "image/png": "[encoded data removed]",
      "text/plain": [
       "<Figure size 792x360 with 1 Axes>"
      ]
     },
     "metadata": {
      "needs_background": "light"
     },
     "output_type": "display_data"
    }
   ],
   "source": [
    "u=data_gel['Hx']\n",
    "v=data_gel['Hy']\n",
    "fig, ax = plt.subplots(figsize=(11, 5))\n",
    "\n",
    "q = stick_plot(t, u, v, ax=ax, width=0.002, color='coral')\n",
    "ax.set_title('WAVE FEATHER PLOT')\n",
    "ref = 1\n",
    "qk = plt.quiverkey(q, 0.1, 0.85, ref,\n",
    "                  \"%s m/s \" % ref,\n",
    "                  labelpos='N', coordinates='axes')\n",
    "\n",
    "_ = plt.xticks(rotation=70)"
   ]
  }
 ],
 "metadata": {
  "kernelspec": {
   "display_name": "Python 3",
   "language": "python",
   "name": "python3"
  },
  "language_info": {
   "codemirror_mode": {
    "name": "ipython",
    "version": 3
   },
   "file_extension": ".py",
   "mimetype": "text/x-python",
   "name": "python",
   "nbconvert_exporter": "python",
   "pygments_lexer": "ipython3",
   "version": "3.7.7"
  }
 },
 "nbformat": 4,
 "nbformat_minor": 4
}
